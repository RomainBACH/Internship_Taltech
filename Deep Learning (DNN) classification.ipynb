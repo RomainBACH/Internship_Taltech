{
 "cells": [
  {
   "cell_type": "markdown",
   "id": "0427f42e",
   "metadata": {},
   "source": [
    "# Dense Neural Network (DNN)"
   ]
  },
  {
   "cell_type": "markdown",
   "id": "6ec6621a",
   "metadata": {},
   "source": [
    "## Import the librairies"
   ]
  },
  {
   "cell_type": "code",
   "execution_count": 1,
   "id": "8c2e11eb",
   "metadata": {},
   "outputs": [],
   "source": [
    "import tensorflow as tf\n",
    "from tensorflow import keras\n",
    "import numpy as np\n",
    "import pandas as pd\n",
    "import seaborn as sns\n",
    "import matplotlib.pyplot as plt\n",
    "%matplotlib inline"
   ]
  },
  {
   "cell_type": "markdown",
   "id": "073e212b",
   "metadata": {},
   "source": [
    "## Retrieve data"
   ]
  },
  {
   "cell_type": "code",
   "execution_count": 2,
   "id": "1ec4de58",
   "metadata": {},
   "outputs": [
    {
     "name": "stdout",
     "output_type": "stream",
     "text": [
      "x_train :  (60000, 28, 28)\n",
      "y_train :  (60000,)\n",
      "x_test  :  (10000, 28, 28)\n",
      "y_test  :  (10000,)\n"
     ]
    }
   ],
   "source": [
    "# Load data\n",
    "\n",
    "(x_train, y_train), (x_test, y_test) = keras.datasets.mnist.load_data() # many data set are included in keras\n",
    "\n",
    "print(\"x_train : \",x_train.shape)\n",
    "print(\"y_train : \",y_train.shape)\n",
    "print(\"x_test  : \",x_test.shape)\n",
    "print(\"y_test  : \",y_test.shape)"
   ]
  },
  {
   "cell_type": "markdown",
   "id": "aadffa19",
   "metadata": {},
   "source": [
    "## Data Normalization"
   ]
  },
  {
   "cell_type": "code",
   "execution_count": 3,
   "id": "44db0dbd",
   "metadata": {},
   "outputs": [],
   "source": [
    "xmax=x_train.max()\n",
    "x_train = x_train / xmax\n",
    "x_test  = x_test  / xmax"
   ]
  },
  {
   "cell_type": "markdown",
   "id": "bfe89dbe",
   "metadata": {},
   "source": [
    "## Create the model"
   ]
  },
  {
   "cell_type": "code",
   "execution_count": 13,
   "id": "2a060aae",
   "metadata": {},
   "outputs": [
    {
     "name": "stdout",
     "output_type": "stream",
     "text": [
      "Model: \"sequential_1\"\n",
      "_________________________________________________________________\n",
      " Layer (type)                Output Shape              Param #   \n",
      "=================================================================\n",
      " flatten_1 (Flatten)         (None, 784)               0         \n",
      "                                                                 \n",
      " dense_3 (Dense)             (None, 100)               78500     \n",
      "                                                                 \n",
      " dense_4 (Dense)             (None, 100)               10100     \n",
      "                                                                 \n",
      " dense_5 (Dense)             (None, 10)                1010      \n",
      "                                                                 \n",
      "=================================================================\n",
      "Total params: 89,610\n",
      "Trainable params: 89,610\n",
      "Non-trainable params: 0\n",
      "_________________________________________________________________\n"
     ]
    }
   ],
   "source": [
    "hidden1     = 100\n",
    "hidden2     = 100\n",
    "\n",
    "model = keras.Sequential([\n",
    "    keras.layers.Input((28,28)),\n",
    "    keras.layers.Flatten(),\n",
    "    keras.layers.Dense( hidden1, activation='relu'),\n",
    "    keras.layers.Dense( hidden2, activation='relu'),\n",
    "    keras.layers.Dense( 10,      activation='softmax')\n",
    "])\n",
    "\n",
    "model.compile(optimizer='adam',\n",
    "              loss='sparse_categorical_crossentropy',\n",
    "              metrics=['accuracy'])\n",
    "\n",
    "model.summary()"
   ]
  },
  {
   "cell_type": "markdown",
   "id": "0292f615",
   "metadata": {},
   "source": [
    "keras.layers.Dense( hidden1, activation='relu', name='Layer1') means\n",
    "a dense neural layer with 100 perceptron, activation functions is relu\n",
    "the number of parameters is (28x28+1)*100: '100' the number of perceptron, '28x28' the size of the input and '1' for the bias"
   ]
  },
  {
   "cell_type": "markdown",
   "id": "23277737",
   "metadata": {},
   "source": [
    "## Train the model"
   ]
  },
  {
   "cell_type": "code",
   "execution_count": 5,
   "id": "6ae20617",
   "metadata": {},
   "outputs": [
    {
     "name": "stdout",
     "output_type": "stream",
     "text": [
      "Epoch 1/16\n",
      "118/118 [==============================] - 3s 14ms/step - loss: 0.5806 - accuracy: 0.8420 - val_loss: 0.2540 - val_accuracy: 0.9278\n",
      "Epoch 2/16\n",
      "118/118 [==============================] - 1s 10ms/step - loss: 0.2112 - accuracy: 0.9393 - val_loss: 0.1827 - val_accuracy: 0.9460\n",
      "Epoch 3/16\n",
      "118/118 [==============================] - 1s 10ms/step - loss: 0.1575 - accuracy: 0.9546 - val_loss: 0.1480 - val_accuracy: 0.9560\n",
      "Epoch 4/16\n",
      "118/118 [==============================] - 1s 10ms/step - loss: 0.1264 - accuracy: 0.9633 - val_loss: 0.1275 - val_accuracy: 0.9637\n",
      "Epoch 5/16\n",
      "118/118 [==============================] - 1s 11ms/step - loss: 0.1045 - accuracy: 0.9694 - val_loss: 0.1128 - val_accuracy: 0.9669\n",
      "Epoch 6/16\n",
      "118/118 [==============================] - 1s 12ms/step - loss: 0.0874 - accuracy: 0.9742 - val_loss: 0.1054 - val_accuracy: 0.9671\n",
      "Epoch 7/16\n",
      "118/118 [==============================] - 1s 11ms/step - loss: 0.0756 - accuracy: 0.9778 - val_loss: 0.1000 - val_accuracy: 0.9702\n",
      "Epoch 8/16\n",
      "118/118 [==============================] - 1s 11ms/step - loss: 0.0656 - accuracy: 0.9811 - val_loss: 0.0924 - val_accuracy: 0.9704\n",
      "Epoch 9/16\n",
      "118/118 [==============================] - 1s 10ms/step - loss: 0.0584 - accuracy: 0.9827 - val_loss: 0.0887 - val_accuracy: 0.9725\n",
      "Epoch 10/16\n",
      "118/118 [==============================] - 1s 11ms/step - loss: 0.0509 - accuracy: 0.9852 - val_loss: 0.0824 - val_accuracy: 0.9746\n",
      "Epoch 11/16\n",
      "118/118 [==============================] - 1s 13ms/step - loss: 0.0459 - accuracy: 0.9866 - val_loss: 0.0846 - val_accuracy: 0.9733\n",
      "Epoch 12/16\n",
      "118/118 [==============================] - 1s 12ms/step - loss: 0.0416 - accuracy: 0.9877 - val_loss: 0.0818 - val_accuracy: 0.9749\n",
      "Epoch 13/16\n",
      "118/118 [==============================] - 1s 11ms/step - loss: 0.0363 - accuracy: 0.9894 - val_loss: 0.0829 - val_accuracy: 0.9757\n",
      "Epoch 14/16\n",
      "118/118 [==============================] - 1s 11ms/step - loss: 0.0328 - accuracy: 0.9903 - val_loss: 0.0861 - val_accuracy: 0.9743\n",
      "Epoch 15/16\n",
      "118/118 [==============================] - 2s 13ms/step - loss: 0.0283 - accuracy: 0.9921 - val_loss: 0.0820 - val_accuracy: 0.9752\n",
      "Epoch 16/16\n",
      "118/118 [==============================] - 1s 10ms/step - loss: 0.0259 - accuracy: 0.9926 - val_loss: 0.0866 - val_accuracy: 0.9739\n"
     ]
    }
   ],
   "source": [
    "batch_size  = 512\n",
    "epochs      =  16\n",
    "\n",
    "history = model.fit(  x_train, y_train,\n",
    "                      batch_size      = batch_size,\n",
    "                      epochs          = epochs,\n",
    "                      verbose         = 1,\n",
    "                      validation_data = (x_test, y_test))"
   ]
  },
  {
   "cell_type": "markdown",
   "id": "5f5c57e0",
   "metadata": {},
   "source": [
    "## Evaluate the model"
   ]
  },
  {
   "cell_type": "code",
   "execution_count": 6,
   "id": "eddca919",
   "metadata": {},
   "outputs": [
    {
     "name": "stdout",
     "output_type": "stream",
     "text": [
      "Test loss     : 0.08659161627292633\n",
      "Test accuracy : 0.9739000201225281\n"
     ]
    }
   ],
   "source": [
    " score = model.evaluate(x_test, y_test, verbose=0)\n",
    "\n",
    "print('Test loss     :', score[0])\n",
    "print('Test accuracy :', score[1])"
   ]
  },
  {
   "cell_type": "markdown",
   "id": "59375106",
   "metadata": {},
   "source": [
    "## Plot history"
   ]
  },
  {
   "cell_type": "code",
   "execution_count": 7,
   "id": "1fea1781",
   "metadata": {},
   "outputs": [
    {
     "data": {
      "text/plain": [
       "<AxesSubplot:title={'center':'Rate_validation acording the number of epochs'}, xlabel='epochs', ylabel='rate_validity'>"
      ]
     },
     "execution_count": 7,
     "metadata": {},
     "output_type": "execute_result"
    },
    {
     "data": {
      "image/png": "[encoded data removed]",
      "text/plain": [
       "<Figure size 432x288 with 1 Axes>"
      ]
     },
     "metadata": {
      "needs_background": "light"
     },
     "output_type": "display_data"
    }
   ],
   "source": [
    "# convert the training history to a dataframe\n",
    "history_df = pd.DataFrame(history.history)\n",
    "\n",
    "# use Pandas native plot method\n",
    "plt.xlabel(\"epochs\")\n",
    "plt.ylabel(\"rate_validity\")\n",
    "plt.title(\"Rate_validation acording the number of epochs\")\n",
    "history_df['accuracy'].plot()\n",
    "history_df['val_accuracy'].plot()"
   ]
  },
  {
   "cell_type": "markdown",
   "id": "ec97bdff",
   "metadata": {},
   "source": [
    "## Plot the results"
   ]
  },
  {
   "cell_type": "code",
   "execution_count": 8,
   "id": "fd1f0462",
   "metadata": {},
   "outputs": [
    {
     "name": "stdout",
     "output_type": "stream",
     "text": [
      "313/313 [==============================] - 1s 2ms/step\n",
      "tf.Tensor(\n",
      "[[ 966    0    1    1    0    2    2    2    4    2]\n",
      " [   0 1116    5    1    0    1    1    2    9    0]\n",
      " [   3    0 1012    4    1    0    0    5    6    1]\n",
      " [   0    0    3  991    0    1    0    6    4    5]\n",
      " [   2    0    8    1  949    0    1    2    2   17]\n",
      " [   2    1    0   17    1  857    5    1    6    2]\n",
      " [   8    3    4    0    4   16  916    0    7    0]\n",
      " [   1    3   11    3    0    0    0 1000    1    9]\n",
      " [   3    0    4    6    6    2    2    2  945    4]\n",
      " [   2    2    0    5    5    2    0    4    2  987]], shape=(10, 10), dtype=int32)\n"
     ]
    },
    {
     "data": {
      "text/plain": [
       "<AxesSubplot:>"
      ]
     },
     "execution_count": 8,
     "metadata": {},
     "output_type": "execute_result"
    },
    {
     "data": {
      "image/png": "[encoded data removed]",
      "text/plain": [
       "<Figure size 432x288 with 2 Axes>"
      ]
     },
     "metadata": {
      "needs_background": "light"
     },
     "output_type": "display_data"
    }
   ],
   "source": [
    "y_sigmoid = model.predict(x_test)\n",
    "y_pred    = np.argmax(y_sigmoid, axis=-1)\n",
    "\n",
    "cf_matrix=tf.math.confusion_matrix(y_test, y_pred)\n",
    "print(cf_matrix)\n",
    "sns.heatmap(cf_matrix, annot=True)"
   ]
  },
  {
   "cell_type": "markdown",
   "id": "6a3b4a32",
   "metadata": {},
   "source": [
    "## Plot some errors"
   ]
  },
  {
   "cell_type": "code",
   "execution_count": 14,
   "id": "38c4b37e",
   "metadata": {},
   "outputs": [
    {
     "data": {
      "image/png": "[encoded data removed]",
      "text/plain": [
       "<Figure size 432x288 with 12 Axes>"
      ]
     },
     "metadata": {
      "needs_background": "light"
     },
     "output_type": "display_data"
    }
   ],
   "source": [
    "images = x_test.reshape((-1, 28, 28))\n",
    "\n",
    "# poorly predicted data are recovered \n",
    "misclass = (y_test != y_pred)\n",
    "misclass_images = images[misclass,:,:]\n",
    "misclass_predicted = y_pred[misclass]\n",
    "\n",
    "# a sample of these images is selected\n",
    "select = np.random.randint(misclass_images.shape[0], size=12)\n",
    "\n",
    "# the images and the (erroneous) predictions associated with these images are displayed\n",
    "for index, value in enumerate(select):\n",
    "    plt.subplot(3,4,index+1)\n",
    "    plt.axis('off')\n",
    "    plt.imshow(misclass_images[value],cmap=plt.cm.gray_r,interpolation=\"nearest\")\n",
    "    plt.title('Predicted: {}'.format(misclass_predicted[value]) )\n",
    "\n",
    "plt.show()"
   ]
  },
  {
   "cell_type": "code",
   "execution_count": null,
   "id": "c09e9c19",
   "metadata": {},
   "outputs": [],
   "source": []
  }
 ],
 "metadata": {
  "kernelspec": {
   "display_name": "Python 3 (ipykernel)",
   "language": "python",
   "name": "python3"
  },
  "language_info": {
   "codemirror_mode": {
    "name": "ipython",
    "version": 3
   },
   "file_extension": ".py",
   "mimetype": "text/x-python",
   "name": "python",
   "nbconvert_exporter": "python",
   "pygments_lexer": "ipython3",
   "version": "3.9.7"
  }
 },
 "nbformat": 4,
 "nbformat_minor": 5
}
